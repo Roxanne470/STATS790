{
 "cells": [
  {
   "cell_type": "code",
   "execution_count": 116,
   "metadata": {},
   "outputs": [],
   "source": [
    "import time\n",
    "import timeit\n",
    "import pandas as pd\n",
    "import numpy as np\n",
    "import matplotlib.pyplot as plt\n",
    "%matplotlib inline\n",
    "from numpy.linalg import inv, qr, svd, cholesky\n",
    "from scipy.linalg import solve_triangular\n",
    "\n",
    "import warnings\n",
    "warnings.simplefilter(\"ignore\")"
   ]
  },
  {
   "cell_type": "markdown",
   "metadata": {},
   "source": [
    "## Q1.a"
   ]
  },
  {
   "cell_type": "markdown",
   "metadata": {},
   "source": [
    "Denote by $\\beta$ the linear regression coefficients, by $X$ the predictors, and by $y$ the response variable.\n"
   ]
  },
  {
   "cell_type": "markdown",
   "metadata": {},
   "source": [
    "### Naive linear algebra derivation\n",
    "\n",
    "$$\n",
    "X \\beta = y \\\\\n",
    "X^{T}X \\beta = X^{T}y \\\\\n",
    "\\beta = (X^{T}X)^{-1}X^{T}y\n",
    "$$"
   ]
  },
  {
   "cell_type": "markdown",
   "metadata": {},
   "source": [
    "### QR decomposition derivation\n",
    "\n",
    "In this case, if $X$ is an $n\\times p$ matrix of full rank, we have $X = QR$ where $Q$ is a $n\\times p$ orthonormal matrix and $R$ is a $p\\times p$ upper triangular matrix. \n",
    "\n",
    "Thus, we can derive\n",
    "\n",
    "$$\n",
    "X \\beta = y \\\\\n",
    "X^{T}X \\beta = X^{T}y \\\\\n",
    "(QR)^{T} QR \\beta = (QR)^{T}y \\\\\n",
    "R^{T}(Q^{T}Q)R \\beta = R^{T}Q^{T}y \\\\\n",
    "R^{T}R \\beta = R^{T}Q^{T}y \\\\\n",
    "(R^{T})^{-1}R^{T}R \\beta = (R^{T})^{-1}R^{T}Q^{T}y \\\\\n",
    "R \\beta = Q^{T}y \\\\\n",
    "\\beta = R^{-1}Q^{T}y\n",
    "$$"
   ]
  },
  {
   "cell_type": "markdown",
   "metadata": {},
   "source": [
    "### SVD derivation\n",
    "\n",
    "In this case, if $X$ is an $n\\times p$ matrix of full rank, we have $X = USV^{T}$ where $U$ is a $n\\times n$ unitary matrix and $S$ is an $n\\times p$ matrix consisting of non-negative singular values and zeros else where, and $V^{T}$ is an $p\\times p$ unitary matrix. \n",
    "\n",
    "Besides, as $U, V$ are unitary matrices, we have \n",
    "\n",
    "$$\n",
    "UU^{T} = U^{T}U = I \\\\\n",
    "VV^{T} = V^{T}V = I\n",
    "$$\n",
    "\n",
    "Thus, we can derive\n",
    "\n",
    "$$\n",
    "X \\beta = y \\\\\n",
    "USV^{T} \\beta = y \\\\\n",
    "(USV^{T})^{-1}USV^{T} \\beta = (USV^{T})^{-1}y \\\\\n",
    "(V^{T})^{-1}S^{-1}(U^{-1}U)SV^{T} \\beta = (V^{T})^{-1}S^{-1}U^{-1}y \\\\\n",
    "V(S^{-1}S)V^{T} \\beta = VS^{-1}U^{T}y \\\\\n",
    "VV^{T} \\beta = VS^{-1}U^{T}y \\\\\n",
    "\\beta = VS^{-1}U^{T}y\n",
    "$$"
   ]
  },
  {
   "cell_type": "markdown",
   "metadata": {},
   "source": [
    "### Cholesky decomposition derivation\n",
    "\n",
    "In this case, if $X$ is an $n\\times p$ of full rank, we have $A = X^{T}X$ is positive definite. Then there exists a lower triangular matrix $L$ such at $A = LL^{T}$.\n",
    "\n",
    "Thus, we can derive\n",
    "\n",
    "$$\n",
    "X \\beta = y \\\\\n",
    "X^{T}X \\beta = X^{T}y \\\\\n",
    "LL^{T} \\beta = X^{T}y \\\\\n",
    "L^{T} \\beta = L^{-1}X^{T}y \\\\\n",
    "\\beta = (L^{T})^{-1}L^{-1}X^{T}y\n",
    "$$\n",
    "\n",
    "Now, since $L^{T}$ is an upper triangular matrix (row-echelon form), we can solve for $\\beta$ using back substitution."
   ]
  },
  {
   "cell_type": "markdown",
   "metadata": {},
   "source": [
    "## Q1.b"
   ]
  },
  {
   "cell_type": "markdown",
   "metadata": {},
   "source": [
    "The `benchmarking` function takes as input the name of the algorithm and given values of $n$ and $p$. It will return the time spent on running the algorithm for solving $\\beta$."
   ]
  },
  {
   "cell_type": "code",
   "execution_count": 112,
   "metadata": {},
   "outputs": [],
   "source": [
    "def benchmarking(algorithm, n, p):\n",
    "  \n",
    "    np.random.seed(123)\n",
    "    X = np.random.randn(n, p)\n",
    "    y = np.random.randn(n)\n",
    "\n",
    "    if algorithm == \"Naive linear algebra\":\n",
    "        t = 0\n",
    "        for i in range(10):\n",
    "            start = time.time()\n",
    "            beta = inv(np.dot(X.T, X)).dot(X.T).dot(y)\n",
    "            end = time.time()\n",
    "            t += end-start\n",
    "    elif algorithm == \"QR decomposition\":\n",
    "        t = 0\n",
    "        for i in range(10):\n",
    "            start = time.time()\n",
    "            q, r = qr(X)\n",
    "            beta = np.dot(inv(r), q.T).dot(y) # solve_triangular(r, np.dot(q.T, y))\n",
    "            end = time.time()\n",
    "            t += end-start\n",
    "    elif algorithm == \"SVD\":\n",
    "        t = 0\n",
    "        for i in range(10):\n",
    "            start = time.time()\n",
    "            u, s, vT = svd(X)\n",
    "            s_inv = np.zeros(X.shape).T\n",
    "            s_inv[:p,:p] = np.diag(1/s)\n",
    "            beta = np.dot(vT.T, s_inv).dot(u.T).dot(y)\n",
    "            end = time.time()\n",
    "            t += end-start\n",
    "    elif algorithm == \"Cholesky decomposition\":\n",
    "        t = 0\n",
    "        for i in range(10):\n",
    "            start = time.time()\n",
    "            L = cholesky(np.dot(X.T, X))\n",
    "            beta = np.dot(inv(L.T), inv(L)).dot(X.T).dot(y) # solve_triangular(L.T, np.dot(inv(L), X.T).dot(y))\n",
    "            end = time.time()\n",
    "            t += end-start\n",
    "\n",
    "    return t/10"
   ]
  },
  {
   "cell_type": "markdown",
   "metadata": {},
   "source": [
    "We use the `benchmarking` function to benchmark the four algorithms for $p = [10]$ and $n = [1000, 10000, 100000]$. "
   ]
  },
  {
   "cell_type": "code",
   "execution_count": 113,
   "metadata": {},
   "outputs": [
    {
     "data": {
      "text/html": [
       "<div>\n",
       "<style scoped>\n",
       "    .dataframe tbody tr th:only-of-type {\n",
       "        vertical-align: middle;\n",
       "    }\n",
       "\n",
       "    .dataframe tbody tr th {\n",
       "        vertical-align: top;\n",
       "    }\n",
       "\n",
       "    .dataframe thead th {\n",
       "        text-align: right;\n",
       "    }\n",
       "</style>\n",
       "<table border=\"1\" class=\"dataframe\">\n",
       "  <thead>\n",
       "    <tr style=\"text-align: right;\">\n",
       "      <th></th>\n",
       "      <th>Algorithm</th>\n",
       "      <th>P</th>\n",
       "      <th>N</th>\n",
       "      <th>Avg Time (ms)</th>\n",
       "    </tr>\n",
       "  </thead>\n",
       "  <tbody>\n",
       "    <tr>\n",
       "      <th>0</th>\n",
       "      <td>Naive linear algebra</td>\n",
       "      <td>10</td>\n",
       "      <td>1000</td>\n",
       "      <td>0.143194</td>\n",
       "    </tr>\n",
       "    <tr>\n",
       "      <th>1</th>\n",
       "      <td>Naive linear algebra</td>\n",
       "      <td>10</td>\n",
       "      <td>10000</td>\n",
       "      <td>0.214767</td>\n",
       "    </tr>\n",
       "    <tr>\n",
       "      <th>2</th>\n",
       "      <td>QR decomposition</td>\n",
       "      <td>10</td>\n",
       "      <td>1000</td>\n",
       "      <td>0.248003</td>\n",
       "    </tr>\n",
       "    <tr>\n",
       "      <th>3</th>\n",
       "      <td>QR decomposition</td>\n",
       "      <td>10</td>\n",
       "      <td>10000</td>\n",
       "      <td>0.996351</td>\n",
       "    </tr>\n",
       "    <tr>\n",
       "      <th>4</th>\n",
       "      <td>SVD</td>\n",
       "      <td>10</td>\n",
       "      <td>1000</td>\n",
       "      <td>9.748769</td>\n",
       "    </tr>\n",
       "    <tr>\n",
       "      <th>5</th>\n",
       "      <td>SVD</td>\n",
       "      <td>10</td>\n",
       "      <td>10000</td>\n",
       "      <td>1964.84561</td>\n",
       "    </tr>\n",
       "    <tr>\n",
       "      <th>6</th>\n",
       "      <td>Cholesky decomposition</td>\n",
       "      <td>10</td>\n",
       "      <td>1000</td>\n",
       "      <td>0.071144</td>\n",
       "    </tr>\n",
       "    <tr>\n",
       "      <th>7</th>\n",
       "      <td>Cholesky decomposition</td>\n",
       "      <td>10</td>\n",
       "      <td>10000</td>\n",
       "      <td>0.204206</td>\n",
       "    </tr>\n",
       "  </tbody>\n",
       "</table>\n",
       "</div>"
      ],
      "text/plain": [
       "                Algorithm   P      N Avg Time (ms)\n",
       "0    Naive linear algebra  10   1000      0.143194\n",
       "1    Naive linear algebra  10  10000      0.214767\n",
       "2        QR decomposition  10   1000      0.248003\n",
       "3        QR decomposition  10  10000      0.996351\n",
       "4                     SVD  10   1000      9.748769\n",
       "5                     SVD  10  10000    1964.84561\n",
       "6  Cholesky decomposition  10   1000      0.071144\n",
       "7  Cholesky decomposition  10  10000      0.204206"
      ]
     },
     "execution_count": 113,
     "metadata": {},
     "output_type": "execute_result"
    }
   ],
   "source": [
    "algorithms = [\"Naive linear algebra\", \"QR decomposition\", \"SVD\", \"Cholesky decomposition\"]\n",
    "p_values = [10]\n",
    "n_values = [1000, 10000]\n",
    "\n",
    "results = []\n",
    "for algorithm in algorithms:\n",
    "    for p in p_values:\n",
    "        for n in n_values:\n",
    "            t = benchmarking(algorithm, n, p)\n",
    "            results.append(pd.Series({\n",
    "                'Algorithm': algorithm,\n",
    "                'P': p,\n",
    "                'N': n,\n",
    "                'Avg Time (ms)': t*1000\n",
    "            }))\n",
    "\n",
    "\n",
    "results_df = pd.concat(results, axis=1).T\n",
    "results_df"
   ]
  },
  {
   "cell_type": "markdown",
   "metadata": {},
   "source": [
    "We plot the results dataframe on a log-log scale."
   ]
  },
  {
   "cell_type": "code",
   "execution_count": 139,
   "metadata": {},
   "outputs": [
    {
     "data": {
      "text/plain": [
       "<AxesSubplot: title={'center': 'Algorithm Benchmarking with P=10'}, xlabel='Log N', ylabel='Log Avg Time (ms)'>"
      ]
     },
     "execution_count": 139,
     "metadata": {},
     "output_type": "execute_result"
    },
    {
     "data": {
      "image/png": "[encoded data removed]",
      "text/plain": [
       "<Figure size 700x400 with 1 Axes>"
      ]
     },
     "metadata": {},
     "output_type": "display_data"
    }
   ],
   "source": [
    "log_results_df = results_df.copy()\n",
    "log_results_df['Avg Time (ms)'] = log_results_df['Avg Time (ms)'].astype(\"float\")\n",
    "log_results_df['N'] = log_results_df['N'].astype(\"float\")\n",
    "log_results_df['Log Avg Time (ms)'] = np.log(log_results_df['Avg Time (ms)'])\n",
    "log_results_df['Log N'] = np.log(log_results_df['N'])\n",
    "plot_df = log_results_df.pivot(index='Log N', columns='Algorithm', values='Log Avg Time (ms)')\n",
    "\n",
    "plot_df.plot(figsize=(7, 4), ylabel=\"Log Avg Time (ms)\", title=\"Algorithm Benchmarking with P=10\")"
   ]
  },
  {
   "cell_type": "markdown",
   "metadata": {},
   "source": [
    "## Q2"
   ]
  },
  {
   "cell_type": "code",
   "execution_count": 2,
   "metadata": {},
   "outputs": [
    {
     "data": {
      "text/html": [
       "<div>\n",
       "<style scoped>\n",
       "    .dataframe tbody tr th:only-of-type {\n",
       "        vertical-align: middle;\n",
       "    }\n",
       "\n",
       "    .dataframe tbody tr th {\n",
       "        vertical-align: top;\n",
       "    }\n",
       "\n",
       "    .dataframe thead th {\n",
       "        text-align: right;\n",
       "    }\n",
       "</style>\n",
       "<table border=\"1\" class=\"dataframe\">\n",
       "  <thead>\n",
       "    <tr style=\"text-align: right;\">\n",
       "      <th></th>\n",
       "      <th>lcavol</th>\n",
       "      <th>lweight</th>\n",
       "      <th>age</th>\n",
       "      <th>lbph</th>\n",
       "      <th>svi</th>\n",
       "      <th>lcp</th>\n",
       "      <th>gleason</th>\n",
       "      <th>pgg45</th>\n",
       "      <th>lpsa</th>\n",
       "      <th>train</th>\n",
       "    </tr>\n",
       "  </thead>\n",
       "  <tbody>\n",
       "    <tr>\n",
       "      <th>0</th>\n",
       "      <td>-0.579818</td>\n",
       "      <td>2.769459</td>\n",
       "      <td>50</td>\n",
       "      <td>-1.386294</td>\n",
       "      <td>0</td>\n",
       "      <td>-1.386294</td>\n",
       "      <td>6</td>\n",
       "      <td>0</td>\n",
       "      <td>-0.430783</td>\n",
       "      <td>T</td>\n",
       "    </tr>\n",
       "    <tr>\n",
       "      <th>1</th>\n",
       "      <td>-0.994252</td>\n",
       "      <td>3.319626</td>\n",
       "      <td>58</td>\n",
       "      <td>-1.386294</td>\n",
       "      <td>0</td>\n",
       "      <td>-1.386294</td>\n",
       "      <td>6</td>\n",
       "      <td>0</td>\n",
       "      <td>-0.162519</td>\n",
       "      <td>T</td>\n",
       "    </tr>\n",
       "    <tr>\n",
       "      <th>2</th>\n",
       "      <td>-0.510826</td>\n",
       "      <td>2.691243</td>\n",
       "      <td>74</td>\n",
       "      <td>-1.386294</td>\n",
       "      <td>0</td>\n",
       "      <td>-1.386294</td>\n",
       "      <td>7</td>\n",
       "      <td>20</td>\n",
       "      <td>-0.162519</td>\n",
       "      <td>T</td>\n",
       "    </tr>\n",
       "    <tr>\n",
       "      <th>3</th>\n",
       "      <td>-1.203973</td>\n",
       "      <td>3.282789</td>\n",
       "      <td>58</td>\n",
       "      <td>-1.386294</td>\n",
       "      <td>0</td>\n",
       "      <td>-1.386294</td>\n",
       "      <td>6</td>\n",
       "      <td>0</td>\n",
       "      <td>-0.162519</td>\n",
       "      <td>T</td>\n",
       "    </tr>\n",
       "    <tr>\n",
       "      <th>4</th>\n",
       "      <td>0.751416</td>\n",
       "      <td>3.432373</td>\n",
       "      <td>62</td>\n",
       "      <td>-1.386294</td>\n",
       "      <td>0</td>\n",
       "      <td>-1.386294</td>\n",
       "      <td>6</td>\n",
       "      <td>0</td>\n",
       "      <td>0.371564</td>\n",
       "      <td>T</td>\n",
       "    </tr>\n",
       "  </tbody>\n",
       "</table>\n",
       "</div>"
      ],
      "text/plain": [
       "     lcavol   lweight  age      lbph  svi       lcp  gleason  pgg45      lpsa  \\\n",
       "0 -0.579818  2.769459   50 -1.386294    0 -1.386294        6      0 -0.430783   \n",
       "1 -0.994252  3.319626   58 -1.386294    0 -1.386294        6      0 -0.162519   \n",
       "2 -0.510826  2.691243   74 -1.386294    0 -1.386294        7     20 -0.162519   \n",
       "3 -1.203973  3.282789   58 -1.386294    0 -1.386294        6      0 -0.162519   \n",
       "4  0.751416  3.432373   62 -1.386294    0 -1.386294        6      0  0.371564   \n",
       "\n",
       "  train  \n",
       "0     T  \n",
       "1     T  \n",
       "2     T  \n",
       "3     T  \n",
       "4     T  "
      ]
     },
     "execution_count": 2,
     "metadata": {},
     "output_type": "execute_result"
    }
   ],
   "source": [
    "import pandas as pd\n",
    "\n",
    "df = pd.read_csv(\"https://hastie.su.domains/ElemStatLearn/datasets/prostate.data\", sep=\"\\t\", index_col=0)\n",
    "df.reset_index(drop=True, inplace=True)\n",
    "df.head()"
   ]
  },
  {
   "cell_type": "markdown",
   "metadata": {},
   "source": [
    "### Train test split"
   ]
  },
  {
   "cell_type": "code",
   "execution_count": 38,
   "metadata": {},
   "outputs": [
    {
     "data": {
      "text/plain": [
       "((67, 7), (67,), (30, 7), (30,))"
      ]
     },
     "execution_count": 38,
     "metadata": {},
     "output_type": "execute_result"
    }
   ],
   "source": [
    "X_train = df[df.train==\"T\"].iloc[:,:7]\n",
    "y_train = df[df.train==\"T\"].iloc[:,8]\n",
    "X_test = df[df.train==\"F\"].iloc[:,:7]\n",
    "y_test = df[df.train==\"F\"].iloc[:,8]\n",
    "\n",
    "X_train.shape, y_train.shape, X_test.shape, y_test.shape"
   ]
  },
  {
   "cell_type": "markdown",
   "metadata": {},
   "source": [
    "### Feature scaling"
   ]
  },
  {
   "cell_type": "markdown",
   "metadata": {},
   "source": [
    "We scale the features so that they have mean 0 and standard deviation $\\sqrt{96} \\approx 9.8$."
   ]
  },
  {
   "cell_type": "code",
   "execution_count": 39,
   "metadata": {},
   "outputs": [],
   "source": [
    "mean = X_train.mean()\n",
    "std = X_train.std()\n",
    "\n",
    "X_train = (X_train - mean) / std\n",
    "X_train = X_train * np.sqrt(96) + 0\n",
    "\n",
    "X_test = (X_test - mean) / std\n",
    "X_test = X_test * np.sqrt(96) + 0"
   ]
  },
  {
   "cell_type": "markdown",
   "metadata": {},
   "source": [
    "Let's check that `X_train` and `X_test` are scaled correctly."
   ]
  },
  {
   "cell_type": "code",
   "execution_count": 40,
   "metadata": {
    "scrolled": true
   },
   "outputs": [
    {
     "data": {
      "text/html": [
       "<div>\n",
       "<style scoped>\n",
       "    .dataframe tbody tr th:only-of-type {\n",
       "        vertical-align: middle;\n",
       "    }\n",
       "\n",
       "    .dataframe tbody tr th {\n",
       "        vertical-align: top;\n",
       "    }\n",
       "\n",
       "    .dataframe thead th {\n",
       "        text-align: right;\n",
       "    }\n",
       "</style>\n",
       "<table border=\"1\" class=\"dataframe\">\n",
       "  <thead>\n",
       "    <tr style=\"text-align: right;\">\n",
       "      <th></th>\n",
       "      <th>lcavol</th>\n",
       "      <th>lweight</th>\n",
       "      <th>age</th>\n",
       "      <th>lbph</th>\n",
       "      <th>svi</th>\n",
       "      <th>lcp</th>\n",
       "      <th>gleason</th>\n",
       "    </tr>\n",
       "  </thead>\n",
       "  <tbody>\n",
       "    <tr>\n",
       "      <th>count</th>\n",
       "      <td>6.700000e+01</td>\n",
       "      <td>6.700000e+01</td>\n",
       "      <td>6.700000e+01</td>\n",
       "      <td>6.700000e+01</td>\n",
       "      <td>6.700000e+01</td>\n",
       "      <td>6.700000e+01</td>\n",
       "      <td>6.700000e+01</td>\n",
       "    </tr>\n",
       "    <tr>\n",
       "      <th>mean</th>\n",
       "      <td>-5.832814e-16</td>\n",
       "      <td>-1.818777e-14</td>\n",
       "      <td>-7.980349e-15</td>\n",
       "      <td>5.302558e-16</td>\n",
       "      <td>-1.166563e-15</td>\n",
       "      <td>2.200561e-15</td>\n",
       "      <td>3.141765e-15</td>\n",
       "    </tr>\n",
       "    <tr>\n",
       "      <th>std</th>\n",
       "      <td>9.797959e+00</td>\n",
       "      <td>9.797959e+00</td>\n",
       "      <td>9.797959e+00</td>\n",
       "      <td>9.797959e+00</td>\n",
       "      <td>9.797959e+00</td>\n",
       "      <td>9.797959e+00</td>\n",
       "      <td>9.797959e+00</td>\n",
       "    </tr>\n",
       "    <tr>\n",
       "      <th>min</th>\n",
       "      <td>-2.097884e+01</td>\n",
       "      <td>-2.572221e+01</td>\n",
       "      <td>-3.101286e+01</td>\n",
       "      <td>-9.758325e+00</td>\n",
       "      <td>-5.222929e+00</td>\n",
       "      <td>-8.198625e+00</td>\n",
       "      <td>-1.010868e+01</td>\n",
       "    </tr>\n",
       "    <tr>\n",
       "      <th>25%</th>\n",
       "      <td>-6.506891e+00</td>\n",
       "      <td>-6.079992e+00</td>\n",
       "      <td>-4.892664e+00</td>\n",
       "      <td>-9.758325e+00</td>\n",
       "      <td>-5.222929e+00</td>\n",
       "      <td>-8.198625e+00</td>\n",
       "      <td>-1.010868e+01</td>\n",
       "    </tr>\n",
       "    <tr>\n",
       "      <th>50%</th>\n",
       "      <td>1.217325e+00</td>\n",
       "      <td>-5.638379e-01</td>\n",
       "      <td>3.313757e-01</td>\n",
       "      <td>-8.215973e-01</td>\n",
       "      <td>-5.222929e+00</td>\n",
       "      <td>-4.087135e+00</td>\n",
       "      <td>3.713391e+00</td>\n",
       "    </tr>\n",
       "    <tr>\n",
       "      <th>75%</th>\n",
       "      <td>8.165610e+00</td>\n",
       "      <td>5.293733e+00</td>\n",
       "      <td>5.555416e+00</td>\n",
       "      <td>9.881041e+00</td>\n",
       "      <td>-5.222929e+00</td>\n",
       "      <td>8.456766e+00</td>\n",
       "      <td>3.713391e+00</td>\n",
       "    </tr>\n",
       "    <tr>\n",
       "      <th>max</th>\n",
       "      <td>1.977200e+01</td>\n",
       "      <td>2.372959e+01</td>\n",
       "      <td>1.861552e+01</td>\n",
       "      <td>1.509443e+01</td>\n",
       "      <td>1.810615e+01</td>\n",
       "      <td>2.008199e+01</td>\n",
       "      <td>3.135752e+01</td>\n",
       "    </tr>\n",
       "  </tbody>\n",
       "</table>\n",
       "</div>"
      ],
      "text/plain": [
       "             lcavol       lweight           age          lbph           svi  \\\n",
       "count  6.700000e+01  6.700000e+01  6.700000e+01  6.700000e+01  6.700000e+01   \n",
       "mean  -5.832814e-16 -1.818777e-14 -7.980349e-15  5.302558e-16 -1.166563e-15   \n",
       "std    9.797959e+00  9.797959e+00  9.797959e+00  9.797959e+00  9.797959e+00   \n",
       "min   -2.097884e+01 -2.572221e+01 -3.101286e+01 -9.758325e+00 -5.222929e+00   \n",
       "25%   -6.506891e+00 -6.079992e+00 -4.892664e+00 -9.758325e+00 -5.222929e+00   \n",
       "50%    1.217325e+00 -5.638379e-01  3.313757e-01 -8.215973e-01 -5.222929e+00   \n",
       "75%    8.165610e+00  5.293733e+00  5.555416e+00  9.881041e+00 -5.222929e+00   \n",
       "max    1.977200e+01  2.372959e+01  1.861552e+01  1.509443e+01  1.810615e+01   \n",
       "\n",
       "                lcp       gleason  \n",
       "count  6.700000e+01  6.700000e+01  \n",
       "mean   2.200561e-15  3.141765e-15  \n",
       "std    9.797959e+00  9.797959e+00  \n",
       "min   -8.198625e+00 -1.010868e+01  \n",
       "25%   -8.198625e+00 -1.010868e+01  \n",
       "50%   -4.087135e+00  3.713391e+00  \n",
       "75%    8.456766e+00  3.713391e+00  \n",
       "max    2.008199e+01  3.135752e+01  "
      ]
     },
     "execution_count": 40,
     "metadata": {},
     "output_type": "execute_result"
    }
   ],
   "source": [
    "X_train.describe()"
   ]
  },
  {
   "cell_type": "code",
   "execution_count": 41,
   "metadata": {},
   "outputs": [
    {
     "data": {
      "text/html": [
       "<div>\n",
       "<style scoped>\n",
       "    .dataframe tbody tr th:only-of-type {\n",
       "        vertical-align: middle;\n",
       "    }\n",
       "\n",
       "    .dataframe tbody tr th {\n",
       "        vertical-align: top;\n",
       "    }\n",
       "\n",
       "    .dataframe thead th {\n",
       "        text-align: right;\n",
       "    }\n",
       "</style>\n",
       "<table border=\"1\" class=\"dataframe\">\n",
       "  <thead>\n",
       "    <tr style=\"text-align: right;\">\n",
       "      <th></th>\n",
       "      <th>lcavol</th>\n",
       "      <th>lweight</th>\n",
       "      <th>age</th>\n",
       "      <th>lbph</th>\n",
       "      <th>svi</th>\n",
       "      <th>lcp</th>\n",
       "      <th>gleason</th>\n",
       "    </tr>\n",
       "  </thead>\n",
       "  <tbody>\n",
       "    <tr>\n",
       "      <th>count</th>\n",
       "      <td>30.000000</td>\n",
       "      <td>30.000000</td>\n",
       "      <td>30.000000</td>\n",
       "      <td>30.000000</td>\n",
       "      <td>30.000000</td>\n",
       "      <td>30.000000</td>\n",
       "      <td>30.000000</td>\n",
       "    </tr>\n",
       "    <tr>\n",
       "      <th>mean</th>\n",
       "      <td>0.931034</td>\n",
       "      <td>0.188443</td>\n",
       "      <td>-3.717255</td>\n",
       "      <td>0.625866</td>\n",
       "      <td>-0.557112</td>\n",
       "      <td>0.787909</td>\n",
       "      <td>0.948978</td>\n",
       "    </tr>\n",
       "    <tr>\n",
       "      <th>std</th>\n",
       "      <td>8.174025</td>\n",
       "      <td>6.186211</td>\n",
       "      <td>9.198831</td>\n",
       "      <td>9.668280</td>\n",
       "      <td>9.491160</td>\n",
       "      <td>9.886349</td>\n",
       "      <td>10.520312</td>\n",
       "    </tr>\n",
       "    <tr>\n",
       "      <th>min</th>\n",
       "      <td>-16.480036</td>\n",
       "      <td>-15.645743</td>\n",
       "      <td>-28.400844</td>\n",
       "      <td>-9.758325</td>\n",
       "      <td>-5.222929</td>\n",
       "      <td>-8.198625</td>\n",
       "      <td>-10.108675</td>\n",
       "    </tr>\n",
       "    <tr>\n",
       "      <th>25%</th>\n",
       "      <td>-4.076432</td>\n",
       "      <td>-3.011001</td>\n",
       "      <td>-6.198674</td>\n",
       "      <td>-9.758325</td>\n",
       "      <td>-5.222929</td>\n",
       "      <td>-8.198625</td>\n",
       "      <td>-10.108675</td>\n",
       "    </tr>\n",
       "    <tr>\n",
       "      <th>50%</th>\n",
       "      <td>1.033493</td>\n",
       "      <td>0.501776</td>\n",
       "      <td>-0.974634</td>\n",
       "      <td>2.455523</td>\n",
       "      <td>-5.222929</td>\n",
       "      <td>-1.514948</td>\n",
       "      <td>3.713391</td>\n",
       "    </tr>\n",
       "    <tr>\n",
       "      <th>75%</th>\n",
       "      <td>5.831936</td>\n",
       "      <td>4.352737</td>\n",
       "      <td>3.922903</td>\n",
       "      <td>10.050141</td>\n",
       "      <td>-5.222929</td>\n",
       "      <td>9.099812</td>\n",
       "      <td>3.713391</td>\n",
       "    </tr>\n",
       "    <tr>\n",
       "      <th>max</th>\n",
       "      <td>17.019807</td>\n",
       "      <td>10.183721</td>\n",
       "      <td>6.861426</td>\n",
       "      <td>14.057073</td>\n",
       "      <td>18.106155</td>\n",
       "      <td>21.812575</td>\n",
       "      <td>31.357523</td>\n",
       "    </tr>\n",
       "  </tbody>\n",
       "</table>\n",
       "</div>"
      ],
      "text/plain": [
       "          lcavol    lweight        age       lbph        svi        lcp  \\\n",
       "count  30.000000  30.000000  30.000000  30.000000  30.000000  30.000000   \n",
       "mean    0.931034   0.188443  -3.717255   0.625866  -0.557112   0.787909   \n",
       "std     8.174025   6.186211   9.198831   9.668280   9.491160   9.886349   \n",
       "min   -16.480036 -15.645743 -28.400844  -9.758325  -5.222929  -8.198625   \n",
       "25%    -4.076432  -3.011001  -6.198674  -9.758325  -5.222929  -8.198625   \n",
       "50%     1.033493   0.501776  -0.974634   2.455523  -5.222929  -1.514948   \n",
       "75%     5.831936   4.352737   3.922903  10.050141  -5.222929   9.099812   \n",
       "max    17.019807  10.183721   6.861426  14.057073  18.106155  21.812575   \n",
       "\n",
       "         gleason  \n",
       "count  30.000000  \n",
       "mean    0.948978  \n",
       "std    10.520312  \n",
       "min   -10.108675  \n",
       "25%   -10.108675  \n",
       "50%     3.713391  \n",
       "75%     3.713391  \n",
       "max    31.357523  "
      ]
     },
     "execution_count": 41,
     "metadata": {},
     "output_type": "execute_result"
    }
   ],
   "source": [
    "X_test.describe()"
   ]
  },
  {
   "cell_type": "markdown",
   "metadata": {},
   "source": [
    "### Data augmentation"
   ]
  },
  {
   "cell_type": "markdown",
   "metadata": {},
   "source": [
    "We create new training data by adding Gaussian noises `X_noise` and `y_noise` to `X_train` and `y_train` respectively. We append the new data `X_new` and `y_new` to `X_train` and `y_train` respectively. By doing so, we obtain the augmented training data `y_train_aug` and `y_train_aug`."
   ]
  },
  {
   "cell_type": "code",
   "execution_count": 70,
   "metadata": {},
   "outputs": [
    {
     "data": {
      "text/plain": [
       "((134, 7), (134,))"
      ]
     },
     "execution_count": 70,
     "metadata": {},
     "output_type": "execute_result"
    }
   ],
   "source": [
    "np.random.seed(123)\n",
    "\n",
    "# augmenting X_train\n",
    "X_noise = np.random.normal(size=X_train.shape)\n",
    "X_new = pd.DataFrame(X_train.values + X_noise, columns = X_train.columns)\n",
    "X_train_aug = pd.concat([X_train, X_new])\n",
    "X_train_aug.reset_index(drop=True, inplace=True)\n",
    "\n",
    "# augmenting y_train\n",
    "y_noise = np.random.normal(size=y_train.shape)\n",
    "y_new = pd.Series(y_train.values + y_noise) #y_aug = pd.DataFrame(y_train.values + y_noise, columns = [\"1psa\"])\n",
    "y_train_aug = pd.concat([y_train, y_new])\n",
    "y_train_aug.reset_index(drop=True, inplace=True)\n",
    "\n",
    "X_train_aug.shape, y_train_aug.shape"
   ]
  },
  {
   "cell_type": "markdown",
   "metadata": {},
   "source": [
    "Let's look at our augmented training data `X_train_aug` and `y_train_aug`."
   ]
  },
  {
   "cell_type": "code",
   "execution_count": 71,
   "metadata": {},
   "outputs": [
    {
     "data": {
      "text/html": [
       "<div>\n",
       "<style scoped>\n",
       "    .dataframe tbody tr th:only-of-type {\n",
       "        vertical-align: middle;\n",
       "    }\n",
       "\n",
       "    .dataframe tbody tr th {\n",
       "        vertical-align: top;\n",
       "    }\n",
       "\n",
       "    .dataframe thead th {\n",
       "        text-align: right;\n",
       "    }\n",
       "</style>\n",
       "<table border=\"1\" class=\"dataframe\">\n",
       "  <thead>\n",
       "    <tr style=\"text-align: right;\">\n",
       "      <th></th>\n",
       "      <th>lcavol</th>\n",
       "      <th>lweight</th>\n",
       "      <th>age</th>\n",
       "      <th>lbph</th>\n",
       "      <th>svi</th>\n",
       "      <th>lcp</th>\n",
       "      <th>gleason</th>\n",
       "    </tr>\n",
       "  </thead>\n",
       "  <tbody>\n",
       "    <tr>\n",
       "      <th>0</th>\n",
       "      <td>-14.928954</td>\n",
       "      <td>-17.610985</td>\n",
       "      <td>-19.258774</td>\n",
       "      <td>-9.758325</td>\n",
       "      <td>-5.222929</td>\n",
       "      <td>-8.198625</td>\n",
       "      <td>-10.108675</td>\n",
       "    </tr>\n",
       "    <tr>\n",
       "      <th>1</th>\n",
       "      <td>-18.196809</td>\n",
       "      <td>-6.300651</td>\n",
       "      <td>-8.810694</td>\n",
       "      <td>-9.758325</td>\n",
       "      <td>-5.222929</td>\n",
       "      <td>-8.198625</td>\n",
       "      <td>-10.108675</td>\n",
       "    </tr>\n",
       "    <tr>\n",
       "      <th>2</th>\n",
       "      <td>-14.384937</td>\n",
       "      <td>-19.218949</td>\n",
       "      <td>12.085466</td>\n",
       "      <td>-9.758325</td>\n",
       "      <td>-5.222929</td>\n",
       "      <td>-8.198625</td>\n",
       "      <td>3.713391</td>\n",
       "    </tr>\n",
       "    <tr>\n",
       "      <th>3</th>\n",
       "      <td>-19.850478</td>\n",
       "      <td>-7.057946</td>\n",
       "      <td>-8.810694</td>\n",
       "      <td>-9.758325</td>\n",
       "      <td>-5.222929</td>\n",
       "      <td>-8.198625</td>\n",
       "      <td>-10.108675</td>\n",
       "    </tr>\n",
       "    <tr>\n",
       "      <th>4</th>\n",
       "      <td>-4.432026</td>\n",
       "      <td>-3.982798</td>\n",
       "      <td>-3.586654</td>\n",
       "      <td>-9.758325</td>\n",
       "      <td>-5.222929</td>\n",
       "      <td>-8.198625</td>\n",
       "      <td>-10.108675</td>\n",
       "    </tr>\n",
       "  </tbody>\n",
       "</table>\n",
       "</div>"
      ],
      "text/plain": [
       "      lcavol    lweight        age      lbph       svi       lcp    gleason\n",
       "0 -14.928954 -17.610985 -19.258774 -9.758325 -5.222929 -8.198625 -10.108675\n",
       "1 -18.196809  -6.300651  -8.810694 -9.758325 -5.222929 -8.198625 -10.108675\n",
       "2 -14.384937 -19.218949  12.085466 -9.758325 -5.222929 -8.198625   3.713391\n",
       "3 -19.850478  -7.057946  -8.810694 -9.758325 -5.222929 -8.198625 -10.108675\n",
       "4  -4.432026  -3.982798  -3.586654 -9.758325 -5.222929 -8.198625 -10.108675"
      ]
     },
     "execution_count": 71,
     "metadata": {},
     "output_type": "execute_result"
    }
   ],
   "source": [
    "X_train_aug.head()"
   ]
  },
  {
   "cell_type": "code",
   "execution_count": 72,
   "metadata": {
    "scrolled": true
   },
   "outputs": [
    {
     "data": {
      "text/plain": [
       "0   -0.430783\n",
       "1   -0.162519\n",
       "2   -0.162519\n",
       "3   -0.162519\n",
       "4    0.371564\n",
       "dtype: float64"
      ]
     },
     "execution_count": 72,
     "metadata": {},
     "output_type": "execute_result"
    }
   ],
   "source": [
    "y_train_aug.head()"
   ]
  },
  {
   "cell_type": "markdown",
   "metadata": {},
   "source": [
    "### Implement and compare two Ridge Regressions"
   ]
  },
  {
   "cell_type": "code",
   "execution_count": 92,
   "metadata": {},
   "outputs": [],
   "source": [
    "from sklearn.linear_model import LinearRegression, Ridge\n",
    "\n",
    "\n",
    "def ridge_benchmarking(method, X, y, alpha=1.0):\n",
    "    \n",
    "    if method == \"Data augmentation\":\n",
    "        t = 0\n",
    "        for i in range(100):\n",
    "            start = time.time()\n",
    "            model = LinearRegression()\n",
    "            model.fit(X, y)\n",
    "            end = time.time()\n",
    "            t += end-start\n",
    "            \n",
    "    elif method == \"Naive ridge\":\n",
    "        t = 0\n",
    "        for i in range(100):\n",
    "            start = time.time()\n",
    "            model = Ridge(alpha=1.0)\n",
    "            model.fit(X, y)\n",
    "            end = time.time()\n",
    "            t += end-start\n",
    "        \n",
    "    return model, t/100\n",
    "    \n",
    "# ridge regression by data augmentation    \n",
    "rrda, t1 = ridge_benchmarking(\"Data augmentation\", X_train_aug, y_train_aug)\n",
    "\n",
    "# naive ridge regression\n",
    "nrr, t2 = ridge_benchmarking(\"Naive ridge\", X_train, y_train)"
   ]
  },
  {
   "cell_type": "markdown",
   "metadata": {},
   "source": [
    "Compare their timing:"
   ]
  },
  {
   "cell_type": "code",
   "execution_count": 115,
   "metadata": {},
   "outputs": [
    {
     "name": "stdout",
     "output_type": "stream",
     "text": [
      "Ridge regression by data augmentation on average took 0.00139 seconds for fitting the training data.\n",
      "Naive ridge regression on average took 0.00094 seconds for fitting the training data.\n"
     ]
    }
   ],
   "source": [
    "print(f\"Ridge regression by data augmentation on average took {round(t1,5)} seconds for fitting the training data.\")\n",
    "print(f\"Naive ridge regression on average took {round(t2,5)} seconds for fitting the training data.\")"
   ]
  },
  {
   "cell_type": "markdown",
   "metadata": {},
   "source": [
    "Compare the test results:"
   ]
  },
  {
   "cell_type": "code",
   "execution_count": 96,
   "metadata": {},
   "outputs": [
    {
     "name": "stdout",
     "output_type": "stream",
     "text": [
      "Ridge regression by data augmentation has Root Mean Squared Error of 0.712 on the test data.\n",
      "Naive ridge regression has Root Mean Squared Error of 0.671 on the test data.\n"
     ]
    }
   ],
   "source": [
    "from sklearn.metrics import mean_squared_error\n",
    "\n",
    "# ridge regression by data augmentation\n",
    "y_pred = rrda.predict(X_test)\n",
    "rmse_rrda = np.sqrt(mean_squared_error(y_pred, y_test))\n",
    "print(f\"Ridge regression by data augmentation has Root Mean Squared Error of {round(rmse_rrda,3)} on the test data.\")\n",
    "\n",
    "# naive ridge regression\n",
    "y_pred = nrr.predict(X_test)\n",
    "rmse_nrr = np.sqrt(mean_squared_error(y_pred, y_test))\n",
    "print(f\"Naive ridge regression has Root Mean Squared Error of {round(rmse_nrr,3)} on the test data.\")"
   ]
  },
  {
   "cell_type": "markdown",
   "metadata": {},
   "source": [
    "Therefore, for the `prostate cancer` dataset, Naive ridge regression on average is faster than Ridge regression by data augmentation, and it also produces smaller root mean squared error value."
   ]
  },
  {
   "cell_type": "markdown",
   "metadata": {},
   "source": [
    "## THE END"
   ]
  }
 ],
 "metadata": {
  "kernelspec": {
   "display_name": "py38",
   "language": "python",
   "name": "py38"
  },
  "language_info": {
   "codemirror_mode": {
    "name": "ipython",
    "version": 3
   },
   "file_extension": ".py",
   "mimetype": "text/x-python",
   "name": "python",
   "nbconvert_exporter": "python",
   "pygments_lexer": "ipython3",
   "version": "3.8.13"
  },
  "vscode": {
   "interpreter": {
    "hash": "aee8b7b246df8f9039afb4144a1f6fd8d2ca17a180786b69acc140d282b71a49"
   }
  }
 },
 "nbformat": 4,
 "nbformat_minor": 2
}
